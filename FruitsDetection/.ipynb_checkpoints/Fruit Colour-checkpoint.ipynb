{
 "cells": [
  {
   "cell_type": "code",
   "execution_count": 1,
   "metadata": {
    "collapsed": false
   },
   "outputs": [],
   "source": [
    "import time\n",
    "import numpy as np\n",
    "from sklearn.model_selection import train_test_split\n",
    "from sklearn.metrics import accuracy_score,recall_score,precision_score\n",
    "from sklearn.ensemble import RandomForestClassifier\n",
    "import os\n",
    "from PIL import Image"
   ]
  },
  {
   "cell_type": "code",
   "execution_count": 2,
   "metadata": {
    "collapsed": false
   },
   "outputs": [],
   "source": [
    "root_dir=os.getcwd()+'/fruits-360/Training'\n",
    "os.chdir(root_dir)"
   ]
  },
  {
   "cell_type": "code",
   "execution_count": 9,
   "metadata": {
    "collapsed": false
   },
   "outputs": [],
   "source": [
    "def getFruitNames():\n",
    "    names=dict()\n",
    "    index=0\n",
    "    for name in os.listdir():\n",
    "        if os.path.isdir(os.path.join(os.getcwd(),name)):\n",
    "            names[name]=index\n",
    "            index+=1\n",
    "    return names"
   ]
  },
  {
   "cell_type": "code",
   "execution_count": 10,
   "metadata": {
    "collapsed": false
   },
   "outputs": [],
   "source": [
    "def shuffled_copies(labels,features):\n",
    "    assert len(labels)==len(features)\n",
    "    od=np.random.permutation(len(labels))\n",
    "    return labels[od],features[od]\n",
    "    \n",
    "def loadImage(names,cwd=os.getcwd()):\n",
    "    dataset=[]\n",
    "    label=list()\n",
    "    for item in names.keys():\n",
    "        \n",
    "        path=os.path.join(cwd,item)\n",
    "\n",
    "        for file in os.listdir(path):\n",
    "            \n",
    "            #Open Image File and Read Contents of Image File\n",
    "            im=Image.open(os.path.join(path,file),mode='r')\n",
    "            im.load()\n",
    "            \n",
    "            #Transform Image File to Numpy Array\n",
    "            arr=np.asarray(im)\n",
    "            arr=arr.reshape(100*100*3)\n",
    "            \n",
    "            #Append data to labels and features\n",
    "            dataset.append(arr)\n",
    "            label.append(names[item])\n",
    "\n",
    "    #Transform list to Numpy Array\n",
    "    labels=np.array(label)\n",
    "    features=np.array(dataset)\n",
    "    \n",
    "    #Return features and labels \n",
    "    return shuffled_copies(labels,features)"
   ]
  },
  {
   "cell_type": "code",
   "execution_count": 13,
   "metadata": {
    "collapsed": true
   },
   "outputs": [],
   "source": [
    "def train_predict(features,labels):\n",
    "    \n",
    "    clf=RandomForestClassifier(n_estimators=5)\n",
    "    \n",
    "    train_features,test_features,train_labels,test_labels=train_test_split(features,labels,test_size=.30,random_state=50)\n",
    "    \n",
    "    clf.fit(train_features,train_labels)\n",
    "    \n",
    "    pred_labels=clf.predict(test_features)\n",
    "    \n",
    "    print(\"Accuracy:\",accuracy_score(test_labels,pred_labels)*100,\"%\")\n",
    "    \n",
    "    print(\"Recall Score:\",recall_score(test_labels,pred_labels,average='macro')*100,\"%\")\n",
    "    \n",
    "    print(\"Precision Score:\",precision_score(test_labels,pred_labels,average='macro')*100,\"%\")"
   ]
  },
  {
   "cell_type": "code",
   "execution_count": 14,
   "metadata": {
    "collapsed": false,
    "scrolled": true
   },
   "outputs": [
    {
     "name": "stdout",
     "output_type": "stream",
     "text": [
      "Accuracy: 99.35042338475814 %\n",
      "Recall Score: 99.37137096379755 %\n",
      "Precision Score: 99.36810876967559 %\n",
      "25.951047000000003 Seconds\n"
     ]
    }
   ],
   "source": [
    "if __name__=='__main__':\n",
    "    start=time.clock()\n",
    "    names=getFruitNames()\n",
    "    label,features=loadImage(names,cwd=root_dir)\n",
    "    train_predict(features,label)\n",
    "    stop=time.clock()\n",
    "    print(stop-start,\"Seconds\")"
   ]
  },
  {
   "cell_type": "code",
   "execution_count": null,
   "metadata": {
    "collapsed": true
   },
   "outputs": [],
   "source": []
  }
 ],
 "metadata": {
  "kernelspec": {
   "display_name": "Python 3",
   "language": "python",
   "name": "python3"
  },
  "language_info": {
   "codemirror_mode": {
    "name": "ipython",
    "version": 3
   },
   "file_extension": ".py",
   "mimetype": "text/x-python",
   "name": "python",
   "nbconvert_exporter": "python",
   "pygments_lexer": "ipython3",
   "version": "3.6.3"
  }
 },
 "nbformat": 4,
 "nbformat_minor": 2
}
